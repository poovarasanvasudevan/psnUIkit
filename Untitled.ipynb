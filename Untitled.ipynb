{
 "cells": [
  {
   "cell_type": "code",
   "execution_count": 1,
   "id": "fd44f5a5",
   "metadata": {},
   "outputs": [
    {
     "data": {
      "text/plain": [
       "Intitializing Scala interpreter ..."
      ]
     },
     "metadata": {},
     "output_type": "display_data"
    },
    {
     "data": {
      "text/plain": [
       "Spark Web UI available at http://host.docker.internal:4040\n",
       "SparkContext available as 'sc' (version = 3.3.0, master = local[*], app id = local-1663734958504)\n",
       "SparkSession available as 'spark'\n"
      ]
     },
     "metadata": {},
     "output_type": "display_data"
    },
    {
     "data": {
      "text/plain": [
       "import org.apache.spark.sql.SparkSession\r\n",
       "import org.apache.spark.sql.functions.lit\r\n"
      ]
     },
     "execution_count": 1,
     "metadata": {},
     "output_type": "execute_result"
    },
    {
     "name": "stdout",
     "output_type": "stream",
     "text": [
      "22/09/21 10:06:10 WARN ProcfsMetricsGetter: Exception when trying to compute pagesize, as a result reporting of ProcessTree metrics is stopped\r\n"
     ]
    }
   ],
   "source": [
    "import org.apache.spark.sql.SparkSession\n",
    "import org.apache.spark.sql.functions.{lit}"
   ]
  },
  {
   "cell_type": "code",
   "execution_count": 2,
   "id": "fe1183f2",
   "metadata": {},
   "outputs": [
    {
     "name": "stdout",
     "output_type": "stream",
     "text": [
      "22/09/21 10:09:37 WARN SparkSession: Using an existing Spark session; only runtime SQL configurations will take effect.\r\n"
     ]
    },
    {
     "data": {
      "text/plain": [
       "spark: org.apache.spark.sql.SparkSession = org.apache.spark.sql.SparkSession@584444b\r\n"
      ]
     },
     "execution_count": 2,
     "metadata": {},
     "output_type": "execute_result"
    }
   ],
   "source": [
    "val spark = SparkSession.builder().appName(\"EUSpark\").getOrCreate()"
   ]
  },
  {
   "cell_type": "code",
   "execution_count": null,
   "id": "57e2f764",
   "metadata": {},
   "outputs": [],
   "source": [
    "val eu_lineitembidlossauctionmetricsdailySCHEMA = spark.read.option(\"mergeSchema\",\"true\").parquet(\"s3n://a9-ads-pmp-delivery-prod-eu-data/PMPDeliveryInsights/LineItemBidLossAuctionMetricsDaily/\")\n",
    "val eu_lineitembidlossmatchingmetricsdailySCHEMA = spark.read.option(\"mergeSchema\",\"true\").parquet(\"s3n://a9-ads-pmp-delivery-prod-eu-data/PMPDeliveryInsights/LineItemBidLossMatchingMetricsDaily/\")\n",
    "val eu_lineitembidlossmetricsdailySCHEMA = spark.read.option(\"mergeSchema\",\"true\").parquet(\"s3n://a9-ads-pmp-delivery-data/PMPDelInsights/LineItemBidLossMetricsDaily/\")\n",
    "val eu_lineitemaaxsupplybidmissingreasonmetricsSCHEMA = spark.read.option(\"mergeSchema\",\"true\").parquet(\"s3n://pmp-del-aax-supply-bid-missing-reason-metrics-eu-prod/PMPDeliveryInsights/LineItemAaxSupplyBidMissingReasonMetrics/\")\n",
    "val eu_lineitemaaxfunnelmetricsSCHEMA = spark.read.option(\"mergeSchema\",\"true\").parquet(\"s3n://pmp-del-aax-funnel-metrics-eu-prod/PMPDeliveryInsights/LineItemAaxFunnelMetrics/\")"
   ]
  },
  {
   "cell_type": "code",
   "execution_count": null,
   "id": "fc884e90",
   "metadata": {},
   "outputs": [],
   "source": [
    "val filter = \"  year = '2022' and month = '09' and day ='14'and region = 'EU' AND AdGroupCFId='589875728257250496'\""
   ]
  },
  {
   "cell_type": "code",
   "execution_count": 28,
   "id": "cbd1c3e6",
   "metadata": {},
   "outputs": [
    {
     "data": {
      "text/plain": [
       "import org.apache.spark.sql.DataFrame\r\n",
       "import org.apache.spark.sql.Column\r\n",
       "removeSumInColumnName: (df: org.apache.spark.sql.DataFrame, columnOrder: List[org.apache.spark.sql.Column])org.apache.spark.sql.DataFrame\r\n"
      ]
     },
     "execution_count": 28,
     "metadata": {},
     "output_type": "execute_result"
    }
   ],
   "source": [
    "import org.apache.spark.sql.DataFrame\n",
    "import org.apache.spark.sql.Column\n",
    "\n",
    "def removeSumInColumnName(df: DataFrame,columnOrder: List[Column]) : DataFrame = {\n",
    "    \n",
    "    var tempDF = df\n",
    "    \n",
    "    for (col <- tempDF.columns) {\n",
    "        if(col.startsWith(\"sum\")) {\n",
    "            var cname = col.replace(\"sum(\",\"\").dropRight(1)\n",
    "            tempDF = tempDF.withColumnRenamed(col,cname.toLowerCase())\n",
    "        } else {\n",
    "            tempDF = tempDF.withColumnRenamed(col,col.toLowerCase())\n",
    "        }\n",
    "    }\n",
    "    \n",
    "    tempDF = tempDF.select(columnOrder:_*) \n",
    "    return tempDF\n",
    "}"
   ]
  },
  {
   "cell_type": "code",
   "execution_count": null,
   "id": "b2316934",
   "metadata": {},
   "outputs": [],
   "source": [
    "var temp_eu_lineitemaaxsupplybidmissingreasonmetricsSCHEMA = eu_lineitemaaxsupplybidmissingreasonmetricsSCHEMA.groupBy(\n",
    "    \"AdGroupCFId\",\"region\",\"year\",\"month\",\"day\"\n",
    ").sum(\n",
    "   \"aaxbidpuntreasonadstxt\",\n",
    "   \"aaxbidpuntreasonappidinvalid\",\n",
    "   \"aaxbidpuntreasoninternalthrottling\",\n",
    "   \"aaxbidpuntreasonsitepageurlmissing\",\n",
    "   \"aaxbidpuntreasonamazontrafficquality\",\n",
    "   \"aaxbidpuntreasonuseridordeviceidmissing\",\n",
    "   \"aaxbidpuntreasonusercontentsettings\",\n",
    "   \"aaxbidpunttotalreasons\"\n",
    ").filter( filter )\n",
    "\n",
    "val supplyNullColumns = \"\"\"totalbidrequests,\n",
    "\t eligiblebidrequests,\n",
    "\t bidresponses,\n",
    "\t impressions,\n",
    "\t lostexternalauction,\n",
    "\t adid,\n",
    "\t bidrequestsindc,\n",
    "\t bidlossgeotargeting,\n",
    "\t bidlossorderfrequencycap,\n",
    "\t bidlossfrequencycap,\n",
    "\t bidlosscreativesize,\n",
    "\t bidlossviewability,\n",
    "\t bidlossaudiencetargeting,\n",
    "\t bidlossdvmrcviewability,\n",
    "\t bidlossiasmrcviewability,\n",
    "\t bidlossiaspublicisviewability,\n",
    "\t bidlossiasgroupmviewability,\n",
    "\t bidlossmaxbidltdealcpm,\n",
    "\t bidlossvideocontenttargetingrating,\n",
    "\t bidlossvideocontenttargetinggenre,\n",
    "\t bidlossvideoinitiationtype,\n",
    "\t bidlossvideoplayersize,\n",
    "\t bidlossvideocompletionrate,\n",
    "\t bidrequestsindcbid,\n",
    "\t bidwonincs,\n",
    "\t bidlossmaxbidtoolow\n",
    "\"\"\".split(\",\").map(_.trim())\n",
    "\n",
    "for(c <- supplyNullColumns) {\n",
    "    temp_eu_lineitemaaxsupplybidmissingreasonmetricsSCHEMA = temp_eu_lineitemaaxsupplybidmissingreasonmetricsSCHEMA.withColumn(c, lit(null: String))\n",
    "}\n",
    "\n",
    "temp_eu_lineitemaaxsupplybidmissingreasonmetricsSCHEMA = temp_eu_lineitemaaxsupplybidmissingreasonmetricsSCHEMA.withColumn(\"date\",lit(\"\")).withColumn(\"updateddate\",lit(\"\")).withColumn(\"expireddate\",lit(\"\"))\n",
    "val columnOrder = temp_eu_lineitembidlossauctionmetricsdailySCHEMA.columns.toSeq.sortWith(_ < _).map(x => col(x))\n",
    "temp_eu_lineitemaaxsupplybidmissingreasonmetricsSCHEMA = removeSumInColumnName(temp_eu_lineitemaaxsupplybidmissingreasonmetricsSCHEMA)"
   ]
  },
  {
   "cell_type": "code",
   "execution_count": null,
   "id": "857db594",
   "metadata": {},
   "outputs": [],
   "source": [
    "var temp_eu_lineitemaaxfunnelmetricsSCHEMA = eu_lineitemaaxfunnelmetricsSCHEMA.groupBy(\"AdGroupCFId\",\"region\",\"year\",\"month\",\"day\").sum(\n",
    "   \"totalbidrequests\",\n",
    "    \"eligiblebidrequests\",\n",
    "    \"bidresponses\",\n",
    "    \"impressions\",\n",
    "    \"lostexternalauction\",\n",
    ").filter( filter )\n",
    "\n",
    "val aaxNullColumns = \n",
    "    \"\"\"adid,\n",
    "\tbidrequestsindc,\n",
    "\tbidlossgeotargeting,\n",
    "\tbidlossorderfrequencycap,\n",
    "\tbidlossfrequencycap,\n",
    "\tbidlosscreativesize,\n",
    "\tbidlossviewability,\n",
    "\tbidlossaudiencetargeting,\n",
    "\tbidlossdvmrcviewability,\n",
    "\tbidlossiasmrcviewability,\n",
    "\tbidlossiaspublicisviewability,\n",
    "\tbidlossiasgroupmviewability,\n",
    "\tbidlossmaxbidltdealcpm,\n",
    "\tbidlossvideocontenttargetingrating,\n",
    "\tbidlossvideocontenttargetinggenre,\n",
    "\tbidlossvideoinitiationtype,\n",
    "\tbidlossvideoplayersize,\n",
    "\tbidlossvideocompletionrate, \n",
    "\tbidrequestsindcbid,\n",
    "\tbidwonincs,\n",
    "\tbidlossmaxbidtoolow,\n",
    "\taaxbidpuntreasonadstxt,\n",
    "\taaxbidpuntreasonappidinvalid,\n",
    "\taaxbidpuntreasoninternalthrottling,\n",
    "\taaxbidpuntreasonsitepageurlmissing,\n",
    "\taaxbidpuntreasonamazontrafficquality,\n",
    "\taaxbidpuntreasonuseridordeviceidmissing,\n",
    "\taaxbidpuntreasonusercontentsettings,\n",
    "\taaxbidpunttotalreasons\"\"\".split(\",\").map(_.trim())\n",
    "\n",
    "\n",
    "for(c <- aaxNullColumns) {\n",
    "    temp_eu_lineitemaaxfunnelmetricsSCHEMA = temp_eu_lineitemaaxfunnelmetricsSCHEMA.withColumn(c, lit(null: String))\n",
    "}\n",
    "\n",
    "temp_eu_lineitemaaxfunnelmetricsSCHEMA = temp_eu_lineitemaaxfunnelmetricsSCHEMA.withColumn(\"date\",lit(\"\")).withColumn(\"updateddate\",lit(\"\")).withColumn(\"expireddate\",lit(\"\"))\n",
    "\n",
    "val columnOrder = temp_eu_lineitembidlossauctionmetricsdailySCHEMA.columns.toSeq.sortWith(_ < _).map(x => col(x))\n",
    "\n",
    "temp_eu_lineitemaaxfunnelmetricsSCHEMA = removeSumInColumnName(temp_eu_lineitemaaxfunnelmetricsSCHEMA,columnOrder)\n",
    "\n"
   ]
  },
  {
   "cell_type": "code",
   "execution_count": null,
   "id": "4f4916df",
   "metadata": {},
   "outputs": [],
   "source": [
    "val lineItemDailyNullColumns = \"\"\"\t bidlossvideocontenttargetingrating,\n",
    "\t bidlossvideocontenttargetinggenre,\n",
    "\t bidlossvideoinitiationtype,\n",
    "\t bidlossvideoplayersize,\n",
    "\t bidlossvideocompletionrate,\n",
    "\t bidrequestsindcbid,\n",
    "\t bidwonincs,\n",
    "\t bidlossmaxbidtoolow,\n",
    "\t aaxbidpuntreasonadstxt,\n",
    "\t aaxbidpuntreasonappidinvalid,\n",
    "\t aaxbidpuntreasoninternalthrottling,\n",
    "\t aaxbidpuntreasonsitepageurlmissing,\n",
    "\t aaxbidpuntreasonamazontrafficquality,\n",
    "\t aaxbidpuntreasonuseridordeviceidmissing,\n",
    "\t aaxbidpuntreasonusercontentsettings,\n",
    "\t aaxbidpunttotalreasons,\n",
    "\t totalbidrequests,\n",
    "     eligiblebidrequests,\n",
    "     bidresponses,\n",
    "     impressions,\n",
    "     lostexternalauction\"\"\".split(\",\").map(_.trim())\n",
    "\n",
    "var temp_eu_lineitembidlossmetricsdailySCHEMA = eu_lineitembidlossmetricsdailySCHEMA.filter(filter)\n",
    "\n",
    "for(c <- lineItemDailyNullColumns) {\n",
    "    temp_eu_lineitembidlossmetricsdailySCHEMA = temp_eu_lineitembidlossmetricsdailySCHEMA.withColumn(c, lit(null: String))\n",
    "}\n",
    "\n",
    "temp_eu_lineitembidlossmetricsdailySCHEMA = removeSumInColumnName(temp_eu_lineitembidlossmetricsdailySCHEMA,columnOrder)\n"
   ]
  },
  {
   "cell_type": "code",
   "execution_count": null,
   "id": "9d3b783d",
   "metadata": {},
   "outputs": [],
   "source": [
    "val lineitembidlossmatchingmetricsdailyNullColumns = \"\"\" totalbidrequests,\n",
    "\t eligiblebidrequests,\n",
    "\t bidresponses,\n",
    "\t impressions,\n",
    "\t lostexternalauction,\n",
    "     bidrequestsindcbid,\n",
    "     bidwonincs,\n",
    "     bidlossmaxbidtoolow,\n",
    "     aaxbidpuntreasonadstxt,\n",
    "     aaxbidpuntreasonappidinvalid,\n",
    "     aaxbidpuntreasoninternalthrottling,\n",
    "     aaxbidpuntreasonsitepageurlmissing,\n",
    "     aaxbidpuntreasonamazontrafficquality,\n",
    "     aaxbidpuntreasonuseridordeviceidmissing,\n",
    "     aaxbidpuntreasonusercontentsettings,\n",
    "     aaxbidpunttotalreasons\"\"\".split(\",\").map(_.trim())\n",
    "\n",
    "var temp_eu_lineitembidlossmatchingmetricsdailySCHEMA = eu_lineitembidlossmatchingmetricsdailySCHEMA.filter(filter)\n",
    "\n",
    "for(c <- lineitembidlossmatchingmetricsdailyNullColumns) {\n",
    "    temp_eu_lineitembidlossmatchingmetricsdailySCHEMA = temp_eu_lineitembidlossmatchingmetricsdailySCHEMA.withColumn(c, lit(null: String))\n",
    "}\n",
    "\n",
    "temp_eu_lineitembidlossmatchingmetricsdailySCHEMA = removeSumInColumnName(temp_eu_lineitembidlossmatchingmetricsdailySCHEMA,columnOrder)\n"
   ]
  },
  {
   "cell_type": "code",
   "execution_count": null,
   "id": "a337a080",
   "metadata": {},
   "outputs": [],
   "source": [
    "val lineitembidlossauctionmetricsdailyNullColumns = \"\"\" totalbidrequests,\n",
    "\t eligiblebidrequests,\n",
    "\t bidresponses,\n",
    "\t impressions,\n",
    "\t lostexternalauction,\n",
    "\t bidlossgeotargeting,\n",
    "     bidlossorderfrequencycap,\n",
    "     bidlossfrequencycap,\n",
    "     bidlosscreativesize,\n",
    "     bidlossviewability,\n",
    "     bidlossaudiencetargeting,\n",
    "     bidlossdvmrcviewability,\n",
    "     bidlossiasmrcviewability,\n",
    "     bidlossiaspublicisviewability,\n",
    "     bidlossiasgroupmviewability,\n",
    "     bidlossmaxbidltdealcpm,\n",
    "     bidlossvideocontenttargetingrating,\n",
    "     bidlossvideocontenttargetinggenre,\n",
    "     bidlossvideoinitiationtype,\n",
    "     bidlossvideoplayersize,\n",
    "     bidlossvideocompletionrate,\n",
    "     aaxbidpuntreasonadstxt,\n",
    "     aaxbidpuntreasonappidinvalid,\n",
    "     aaxbidpuntreasoninternalthrottling,\n",
    "     aaxbidpuntreasonsitepageurlmissing,\n",
    "     aaxbidpuntreasonamazontrafficquality,\n",
    "     aaxbidpuntreasonuseridordeviceidmissing,\n",
    "     aaxbidpuntreasonusercontentsettings,\n",
    "     aaxbidpunttotalreasons\"\"\".split(\",\").map(_.trim())\n",
    "\n",
    "var temp_eu_lineitembidlossauctionmetricsdailySCHEMA = eu_lineitembidlossauctionmetricsdailySCHEMA.filter(filter)\n",
    "\n",
    "for(c <- lineitembidlossauctionmetricsdailyNullColumns) {\n",
    "    temp_eu_lineitembidlossauctionmetricsdailySCHEMA = temp_eu_lineitembidlossauctionmetricsdailySCHEMA.withColumn(c, lit(null: String))\n",
    "}\n",
    "\n",
    "temp_eu_lineitembidlossauctionmetricsdailySCHEMA = removeSumInColumnName(temp_eu_lineitembidlossauctionmetricsdailySCHEMA,columnOrder)\n",
    "\n",
    "\n"
   ]
  },
  {
   "cell_type": "code",
   "execution_count": null,
   "id": "bfa71863",
   "metadata": {},
   "outputs": [],
   "source": [
    "val lineitembidlossauctionmetricsdailyNullColumns = \"\"\" totalbidrequests,\n",
    "\t eligiblebidrequests,\n",
    "\t bidresponses,\n",
    "\t impressions,\n",
    "\t lostexternalauction,\n",
    "\t bidlossgeotargeting,\n",
    "     bidlossorderfrequencycap,\n",
    "     bidlossfrequencycap,\n",
    "     bidlosscreativesize,\n",
    "     bidlossviewability,\n",
    "     bidlossaudiencetargeting,\n",
    "     bidlossdvmrcviewability,\n",
    "     bidlossiasmrcviewability,\n",
    "     bidlossiaspublicisviewability,\n",
    "     bidlossiasgroupmviewability,\n",
    "     bidlossmaxbidltdealcpm,\n",
    "     bidlossvideocontenttargetingrating,\n",
    "     bidlossvideocontenttargetinggenre,\n",
    "     bidlossvideoinitiationtype,\n",
    "     bidlossvideoplayersize,\n",
    "     bidlossvideocompletionrate,\n",
    "     aaxbidpuntreasonadstxt,\n",
    "     aaxbidpuntreasonappidinvalid,\n",
    "     aaxbidpuntreasoninternalthrottling,\n",
    "     aaxbidpuntreasonsitepageurlmissing,\n",
    "     aaxbidpuntreasonamazontrafficquality,\n",
    "     aaxbidpuntreasonuseridordeviceidmissing,\n",
    "     aaxbidpuntreasonusercontentsettings,\n",
    "     aaxbidpunttotalreasons\"\"\".split(\",\").map(_.trim())\n",
    "\n",
    "var temp_eu_lineitembidlossauctionmetricsdailySCHEMA = eu_lineitembidlossauctionmetricsdailySCHEMA.filter(filter)\n",
    "\n",
    "for(c <- lineitembidlossauctionmetricsdailyNullColumns) {\n",
    "    temp_eu_lineitembidlossauctionmetricsdailySCHEMA = temp_eu_lineitembidlossauctionmetricsdailySCHEMA.withColumn(c, lit(null: String))\n",
    "}\n",
    "\n",
    "temp_eu_lineitembidlossauctionmetricsdailySCHEMA = removeSumInColumnName(temp_eu_lineitembidlossauctionmetricsdailySCHEMA,columnOrder)\n"
   ]
  },
  {
   "cell_type": "code",
   "execution_count": null,
   "id": "fe17da71",
   "metadata": {},
   "outputs": [],
   "source": [
    "var fullDF = temp_eu_lineitembidlossauctionmetricsdailySCHEMA.union(temp_eu_lineitembidlossmatchingmetricsdailySCHEMA).union(temp_eu_lineitembidlossmetricsdailySCHEMA).union(temp_eu_lineitemaaxsupplybidmissingreasonmetricsSCHEMA).union(temp_eu_lineitemaaxfunnelmetricsSCHEMA)\n",
    "\n",
    "var ignoreC = List(\"adgroupcfid\",\"region\",\"year\",\"month\",\"day\",\"date\")\n",
    "var sumColumns = fullDF.columns.filter(x => !ignoreC.contains(x))\n",
    "\n",
    "for (j <- sumColumns) {\n",
    "    fullDF = fullDF.withColumn(j+\"_temp\",fullDF.col(j).cast(\"long\")).drop(j).withColumnRenamed(j+\"_temp\",j)\n",
    "}\n",
    "\n",
    "var fullDF1 = fullDF.groupBy(\"adgroupcfid\",\"region\",\"year\",\"month\",\"day\").sum(sumColumns:_*)\n",
    "\n",
    "fullDF1.show()\n"
   ]
  }
 ],
 "metadata": {
  "kernelspec": {
   "display_name": "spylon-kernel",
   "language": "scala",
   "name": "spylon-kernel"
  },
  "language_info": {
   "codemirror_mode": "text/x-scala",
   "file_extension": ".scala",
   "help_links": [
    {
     "text": "MetaKernel Magics",
     "url": "https://metakernel.readthedocs.io/en/latest/source/README.html"
    }
   ],
   "mimetype": "text/x-scala",
   "name": "scala",
   "pygments_lexer": "scala",
   "version": "0.4.1"
  }
 },
 "nbformat": 4,
 "nbformat_minor": 5
}
